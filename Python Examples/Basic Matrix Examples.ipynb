{
 "cells": [
  {
   "metadata": {},
   "cell_type": "markdown",
   "source": [
    "# Matrices\n",
    "\n",
    "For this exercise of seeing of numerical linear algebra in Python, we will be using a combination of numpy and scipy.\n",
    "Scipy will be used in most cases but numpy will be relied upon \n",
    "\n",
    "## Matrix Operations\n",
    "\n"
   ],
   "id": "1c04fd75845da80e"
  },
  {
   "metadata": {
    "ExecuteTime": {
     "end_time": "2024-12-25T02:20:58.122268Z",
     "start_time": "2024-12-25T02:20:57.020679Z"
    }
   },
   "cell_type": "code",
   "source": [
    "import numpy as np\n",
    "import scipy.linalg as la\n",
    "import scipy\n",
    "import time\n",
    "import sys\n"
   ],
   "id": "5eb4234ebc7fd6af",
   "outputs": [],
   "execution_count": 2
  },
  {
   "metadata": {},
   "cell_type": "markdown",
   "source": "Creating an Array",
   "id": "92c05a4f21ff88cf"
  },
  {
   "metadata": {
    "ExecuteTime": {
     "end_time": "2024-12-25T02:20:58.131925Z",
     "start_time": "2024-12-25T02:20:58.127271Z"
    }
   },
   "cell_type": "code",
   "source": [
    "# row vector\n",
    "c = np.array([1,2])\n",
    "print(\"row vector\", c)\n",
    "# column vector\n",
    "d = np.array([[1],[2]])\n",
    "print(\"column vector\",d)"
   ],
   "id": "8a352573d4eac747",
   "outputs": [
    {
     "name": "stdout",
     "output_type": "stream",
     "text": [
      "row vector [1 2]\n",
      "column vector [[1]\n",
      " [2]]\n"
     ]
    }
   ],
   "execution_count": 3
  },
  {
   "metadata": {},
   "cell_type": "markdown",
   "source": "Matrix Addition",
   "id": "b0886830a3a0508c"
  },
  {
   "metadata": {
    "ExecuteTime": {
     "end_time": "2024-12-25T02:20:58.210250Z",
     "start_time": "2024-12-25T02:20:58.206344Z"
    }
   },
   "cell_type": "code",
   "source": [
    "\n",
    "# 2x2 matrix\n",
    "a = np.array([[1,2],[3,4]])\n",
    "b= np.array([[5,6],[7,8]])\n",
    "print(\"matrix addition\",a+b)\n"
   ],
   "id": "210475d183c9fce",
   "outputs": [
    {
     "name": "stdout",
     "output_type": "stream",
     "text": [
      "matrix addition [[ 6  8]\n",
      " [10 12]]\n"
     ]
    }
   ],
   "execution_count": 4
  },
  {
   "metadata": {},
   "cell_type": "markdown",
   "source": "Matrix Multiplication",
   "id": "82424e6916317506"
  },
  {
   "metadata": {},
   "cell_type": "markdown",
   "source": "@ is typically more effiecient since it uses matmul underneath so it is the preferred method and was designed specifically for matrix multiplication. This will break if the number of columns in the first matrix is not equal to the number of rows in the second matrix.",
   "id": "792814961003ad77"
  },
  {
   "metadata": {
    "ExecuteTime": {
     "end_time": "2024-12-25T02:20:58.236072Z",
     "start_time": "2024-12-25T02:20:58.232927Z"
    }
   },
   "cell_type": "code",
   "source": [
    "multiply = np.dot(a,b)\n",
    "print(\"matrix multiplication\",multiply)\n",
    "multiply_2 = a@b\n",
    "print(\"matrix multiplication\",multiply_2)"
   ],
   "id": "53891e958bdc575c",
   "outputs": [
    {
     "name": "stdout",
     "output_type": "stream",
     "text": [
      "matrix multiplication [[19 22]\n",
      " [43 50]]\n",
      "matrix multiplication [[19 22]\n",
      " [43 50]]\n"
     ]
    }
   ],
   "execution_count": 5
  },
  {
   "metadata": {},
   "cell_type": "markdown",
   "source": [
    "Sparse vs Dense Matrices\n",
    "\n",
    "If we look at the matrix above we can see that it is automatically assumed that the matrix is **dense** which means that each number in the matrix is explicitly stores in memory. However, there may be a case where the matrix has a special form like a diagonal or upper triangular or lower triangular matrix. In this case, the only values that matter are the the non-zero values, so ideally we only want to store those in memory to speed up computation and reduce memory usage. This is where **sparse** matrices come in.\n",
    "\n",
    "By default all matrices created in numpy are dense but if you want to create a sparse matrix you can use scipy's linalg module. "
   ],
   "id": "6ee8f3cd9bb8ec23"
  },
  {
   "metadata": {
    "ExecuteTime": {
     "end_time": "2024-12-25T02:21:05.879058Z",
     "start_time": "2024-12-25T02:20:58.257225Z"
    }
   },
   "cell_type": "code",
   "source": [
    "# Creating a very large matrix\n",
    "N = 10000\n",
    "num_zeros = int(N * N * 0.9)  # Correctly calculating 90% of total elements\n",
    "\n",
    "matrix = np.random.rand(N, N)\n",
    "flat_matrix = matrix.flatten()\n",
    "zero_indices = np.random.choice(flat_matrix.size, num_zeros, replace=False)\n",
    "\n",
    "flat_matrix[zero_indices] = 0\n",
    "matrix_with_zeros = flat_matrix.reshape(N, N)\n",
    "\n",
    "dense_matrix = matrix_with_zeros\n",
    "sparse_matrix = scipy.sparse.csr_matrix(matrix_with_zeros)  # Creating sparse matrix\n",
    "random_vector = np.random.rand(N)\n",
    "\n",
    "# Timing the dense matrix multiplication\n",
    "start_dense = time.time()\n",
    "result_dense = dense_matrix @ random_vector\n",
    "end_dense = time.time()\n",
    "print(\"Dense time:\", end_dense - start_dense)\n",
    "\n",
    "# Timing the sparse matrix multiplication\n",
    "start_sparse = time.time()\n",
    "result_sparse = sparse_matrix @ random_vector  # Using sparse matrix\n",
    "end_sparse = time.time()\n",
    "print(\"Sparse time:\", end_sparse - start_sparse)\n",
    "\n",
    "# Memory usage\n",
    "dense_memory = dense_matrix.nbytes\n",
    "sparse_memory = sparse_matrix.data.nbytes + sparse_matrix.indptr.nbytes + sparse_matrix.indices.nbytes\n",
    "\n",
    "print(f\"Dense Matrix Memory: {dense_memory / (1024 ** 2):.2f} MB\")\n",
    "print(f\"Sparse Matrix Memory: {sparse_memory / (1024 ** 2):.2f} MB\")\n"
   ],
   "id": "fffa2b250fded4b6",
   "outputs": [
    {
     "name": "stdout",
     "output_type": "stream",
     "text": [
      "Dense time: 0.07150435447692871\n",
      "Sparse time: 0.011000871658325195\n",
      "Dense Matrix Memory: 762.94 MB\n",
      "Sparse Matrix Memory: 114.48 MB\n"
     ]
    }
   ],
   "execution_count": 6
  },
  {
   "metadata": {},
   "cell_type": "markdown",
   "source": "Dot Product Algorithm\n",
   "id": "26825b3e6c2a7094"
  },
  {
   "metadata": {
    "ExecuteTime": {
     "end_time": "2024-12-25T02:21:29.644269Z",
     "start_time": "2024-12-25T02:21:29.639745Z"
    }
   },
   "cell_type": "code",
   "source": [
    "def dot_product(x, y):\n",
    "    c=0\n",
    "    for i in range(len(x)):\n",
    "        c+= x[i]*y[i]\n",
    "    return c\n",
    "\n",
    "x = np.random.rand(5)\n",
    "y = np.random.rand(5)\n",
    "z= dot_product(x,y)\n",
    "print(x,y,z)"
   ],
   "id": "bde6fbcd9423f865",
   "outputs": [
    {
     "name": "stdout",
     "output_type": "stream",
     "text": [
      "[0.396859   0.88535457 0.06062314 0.40088156 0.4839757 ] [0.37107676 0.34731111 0.86061728 0.71736089 0.33114384] 0.9547742663614411\n"
     ]
    }
   ],
   "execution_count": 8
  },
  {
   "metadata": {},
   "cell_type": "markdown",
   "source": [
    "Forward Substitution\n",
    "\n",
    "Refer to the Notes for the details regarding the Algorithm"
   ],
   "id": "641df56dbb96db00"
  },
  {
   "metadata": {
    "ExecuteTime": {
     "end_time": "2024-12-25T04:13:34.813257Z",
     "start_time": "2024-12-25T04:13:34.810234Z"
    }
   },
   "cell_type": "code",
   "source": [
    "def forward_substitution_row_oriented(L, b):\n",
    "    \"\"\"\n",
    "    Row-oriented forward substitution for solving Lx = b.\n",
    "    This algorithm overwrites b with the solution x.\n",
    "    Parameters:\n",
    "        L: Lower triangular matrix (n x n, numpy array)\n",
    "        b: Right-hand side vector (n, numpy array), will be overwritten with the solution\n",
    "    Returns:\n",
    "        b: Solution vector (overwrites the input b)\n",
    "    \"\"\"\n",
    "    n = len(b)\n",
    "\n",
    "    # Solve for the first variable\n",
    "    b[0] = b[0] / L[0, 0]\n",
    "\n",
    "    # Solve for the remaining variables\n",
    "    for i in range(1, n):\n",
    "        b[i] = (b[i] - np.dot(L[i, :i], b[:i])) / L[i, i]\n",
    "\n",
    "    return b"
   ],
   "id": "a2f033a281d50361",
   "outputs": [],
   "execution_count": 15
  },
  {
   "metadata": {
    "ExecuteTime": {
     "end_time": "2024-12-25T04:16:41.207141Z",
     "start_time": "2024-12-25T04:16:41.202968Z"
    }
   },
   "cell_type": "code",
   "source": [
    "# Define a lower triangular matrix L and vector b\n",
    "L = np.array([\n",
    "    [2, 0, 0],\n",
    "    [3, 1, 0],\n",
    "    [1, -1, 1]\n",
    "], dtype=float)\n",
    "\n",
    "b = np.array([4, 5, 6], dtype=float)\n",
    "\n",
    "# Use the function with a copy of b\n",
    "x = forward_substitution_row_oriented(L, b.copy())\n",
    "print(\"Solution vector x:\", x)\n",
    "\n",
    "# Verify original b remains unchanged\n",
    "print(\"Original b vector:\", b)\n",
    "\n",
    "# Compare with SciPy\n",
    "x_scipy = la.solve_triangular(L, b, lower=True)\n",
    "print(\"Solution vector x (SciPy):\", x_scipy)"
   ],
   "id": "58a7e14196e9cee9",
   "outputs": [
    {
     "name": "stdout",
     "output_type": "stream",
     "text": [
      "Solution vector x: [ 2. -1.  3.]\n",
      "Original b vector: [4. 5. 6.]\n",
      "Solution vector x (SciPy): [ 2. -1.  3.]\n"
     ]
    }
   ],
   "execution_count": 21
  },
  {
   "metadata": {},
   "cell_type": "markdown",
   "source": "Backward Substitution",
   "id": "87233328745fff2f"
  },
  {
   "metadata": {
    "ExecuteTime": {
     "end_time": "2024-12-25T04:14:14.531863Z",
     "start_time": "2024-12-25T04:14:14.528299Z"
    }
   },
   "cell_type": "code",
   "source": [
    "def backward_substitution(U, y):\n",
    "    \"\"\"\n",
    "    Solves Ux = y using backward substitution, overwriting y with the solution x.\n",
    "\n",
    "    Parameters:\n",
    "        U: Upper triangular matrix (n x n, numpy array)\n",
    "        y: Right-hand side vector (n, numpy array), will be overwritten with the solution x\n",
    "\n",
    "    Returns:\n",
    "        y: Solution vector (overwrites the input y)\n",
    "    \"\"\"\n",
    "    n = len(y)\n",
    "\n",
    "    # Step 1: Solve for y(n)\n",
    "    y[n-1] = y[n-1] / U[n-1, n-1]\n",
    "\n",
    "    # Step 2: Solve for y(i) for i = n-1 to 1\n",
    "    for i in range(n-2, -1, -1):  # Iterate from n-2 to 0\n",
    "        sum_terms = np.dot(U[i, i+1:], y[i+1:])  # Compute sum of U[i, j] * y[j] for j = i+1 to n\n",
    "        y[i] = (y[i] - sum_terms) / U[i, i]\n",
    "\n",
    "    return y"
   ],
   "id": "345284cd2be08bd2",
   "outputs": [],
   "execution_count": 17
  },
  {
   "metadata": {
    "ExecuteTime": {
     "end_time": "2024-12-25T04:14:15.411570Z",
     "start_time": "2024-12-25T04:14:15.407249Z"
    }
   },
   "cell_type": "code",
   "source": [
    "# Define an upper triangular matrix U and right-hand side vector y\n",
    "U = np.array([\n",
    "[2, 1, -1],\n",
    "[0, 3, 2],\n",
    "[0, 0, 1]\n",
    "], dtype=float)\n",
    "\n",
    "y = np.array([5, 8, 3], dtype=float)\n",
    "\n",
    "# Solve Ux = y using backward substitution\n",
    "x = backward_substitution(U, y)\n",
    "print(\"Solution vector x:\", x)\n",
    "x_backward = la.solve_triangular(U, b, lower=False)\n",
    "print(\"Solution for backward substitution (Ux = b):\", x_backward)"
   ],
   "id": "713a88ed008f5c2d",
   "outputs": [
    {
     "name": "stdout",
     "output_type": "stream",
     "text": [
      "Solution vector x: [3.66666667 0.66666667 3.        ]\n",
      "Solution for backward substitution (Ux = b): [ 3.66666667 -2.33333333  3.        ]\n"
     ]
    }
   ],
   "execution_count": 18
  },
  {
   "metadata": {
    "ExecuteTime": {
     "end_time": "2024-12-25T05:31:22.737442Z",
     "start_time": "2024-12-25T05:31:22.671104Z"
    }
   },
   "cell_type": "code",
   "source": [
    "import numpy as np\n",
    "from scipy.linalg import lu\n",
    "\n",
    "\n",
    "def gaussian_elimination_no_pivoting(A, b):\n",
    "    \"\"\"\n",
    "    Solves Ax = b using Gaussian elimination without pivoting.\n",
    "    Demonstrates instability for poorly scaled systems.\n",
    "    \"\"\"\n",
    "    n = len(A)\n",
    "    U = A.copy()\n",
    "    L = np.eye(n)  # Start with L as an identity matrix\n",
    "\n",
    "    # Gaussian elimination\n",
    "    for k in range(n - 1):\n",
    "        if abs(U[k, k]) < 1e-12:\n",
    "            raise ValueError(f\"Zero (or near-zero) pivot encountered at U[{k}, {k}]!\")\n",
    "        for i in range(k + 1, n):\n",
    "            # Compute the multiplier\n",
    "            m = U[i, k] / U[k, k]\n",
    "            L[i, k] = m  # Store the multiplier in L\n",
    "            # Update row i of U\n",
    "            U[i, :] -= m * U[k, :]\n",
    "\n",
    "    # Solve Ly = b (forward substitution)\n",
    "    y = np.zeros_like(b)\n",
    "    for i in range(n):\n",
    "        y[i] = b[i] - np.dot(L[i, :i], y[:i])\n",
    "\n",
    "    # Solve Ux = y (back substitution)\n",
    "    x = np.zeros_like(b)\n",
    "    for i in range(n - 1, -1, -1):\n",
    "        x[i] = (y[i] - np.dot(U[i, i + 1:], x[i + 1:])) / U[i, i]\n",
    "\n",
    "    return x, L, U\n",
    "\n",
    "\n",
    "def gaussian_elimination_with_pivoting(A, b):\n",
    "    \"\"\"\n",
    "    Solves Ax = b using Gaussian elimination with partial pivoting.\n",
    "    \"\"\"\n",
    "    n = len(A)\n",
    "    U = A.copy()\n",
    "    L = np.eye(n)  # Start with L as an identity matrix\n",
    "    P = np.eye(n)  # Start with P as an identity matrix\n",
    "\n",
    "    # Gaussian elimination with partial pivoting\n",
    "    for k in range(n - 1):\n",
    "        # Partial pivoting: Find the row with the largest pivot and swap rows\n",
    "        max_row = np.argmax(abs(U[k:, k])) + k\n",
    "        if max_row != k:\n",
    "            U[[k, max_row]] = U[[max_row, k]]\n",
    "            P[[k, max_row]] = P[[max_row, k]]\n",
    "            if k > 0:\n",
    "                L[[k, max_row], :k] = L[[max_row, k], :k]\n",
    "\n",
    "        for i in range(k + 1, n):\n",
    "            if abs(U[k, k]) < 1e-12:\n",
    "                raise ValueError(f\"Zero (or near-zero) pivot encountered at U[{k}, {k}]!\")\n",
    "            # Compute the multiplier\n",
    "            m = U[i, k] / U[k, k]\n",
    "            L[i, k] = m  # Store the multiplier in L\n",
    "            # Update row i of U\n",
    "            U[i, :] -= m * U[k, :]\n",
    "\n",
    "    # Solve Ly = Pb (forward substitution)\n",
    "    b_prime = np.dot(P, b)\n",
    "    y = np.zeros_like(b)\n",
    "    for i in range(n):\n",
    "        y[i] = b_prime[i] - np.dot(L[i, :i], y[:i])\n",
    "\n",
    "    # Solve Ux = y (back substitution)\n",
    "    x = np.zeros_like(b)\n",
    "    for i in range(n - 1, -1, -1):\n",
    "        x[i] = (y[i] - np.dot(U[i, i + 1:], x[i + 1:])) / U[i, i]\n",
    "\n",
    "    return x, P, L, U\n",
    "\n",
    "\n",
    "# Define the matrix and vector\n",
    "A = np.array([\n",
    "    [0.0001, 1, 1],\n",
    "    [1, 2, 3],\n",
    "    [2, 4, 8]\n",
    "], dtype=float)\n",
    "\n",
    "b = np.array([2, 10, 20], dtype=float)\n",
    "\n",
    "# Solve without pivoting\n",
    "print(\"Gaussian Elimination Without Pivoting:\")\n",
    "try:\n",
    "    x_no_pivot, L_no_pivot, U_no_pivot = gaussian_elimination_no_pivoting(A, b)\n",
    "    print(\"Solution (x):\", x_no_pivot)\n",
    "    print(\"L (lower triangular):\\n\", L_no_pivot)\n",
    "    print(\"U (upper triangular):\\n\", U_no_pivot)\n",
    "except ValueError as e:\n",
    "    print(\"Error:\", e)\n",
    "\n",
    "# Solve with partial pivoting\n",
    "print(\"\\nGaussian Elimination With Partial Pivoting:\")\n",
    "x_pivot, P_pivot, L_pivot, U_pivot = gaussian_elimination_with_pivoting(A, b)\n",
    "print(\"Solution (x):\", x_pivot)\n",
    "print(\"P (permutation matrix):\\n\", P_pivot)\n",
    "print(\"L (lower triangular):\\n\", L_pivot)\n",
    "print(\"U (upper triangular):\\n\", U_pivot)\n",
    "\n"
   ],
   "id": "ee6459a4acf73e12",
   "outputs": [
    {
     "name": "stdout",
     "output_type": "stream",
     "text": [
      "Gaussian Elimination Without Pivoting:\n",
      "Solution (x): [6.00120024 1.99939988 0.        ]\n",
      "L (lower triangular):\n",
      " [[1.e+00 0.e+00 0.e+00]\n",
      " [1.e+04 1.e+00 0.e+00]\n",
      " [2.e+04 2.e+00 1.e+00]]\n",
      "U (upper triangular):\n",
      " [[ 1.000e-04  1.000e+00  1.000e+00]\n",
      " [ 0.000e+00 -9.998e+03 -9.997e+03]\n",
      " [ 0.000e+00  0.000e+00  2.000e+00]]\n",
      "\n",
      "Gaussian Elimination With Partial Pivoting:\n",
      "Solution (x): [ 6.00120024  1.99939988 -0.        ]\n",
      "P (permutation matrix):\n",
      " [[0. 0. 1.]\n",
      " [1. 0. 0.]\n",
      " [0. 1. 0.]]\n",
      "L (lower triangular):\n",
      " [[1.e+00 0.e+00 0.e+00]\n",
      " [5.e-05 1.e+00 0.e+00]\n",
      " [5.e-01 0.e+00 1.e+00]]\n",
      "U (upper triangular):\n",
      " [[ 2.      4.      8.    ]\n",
      " [ 0.      0.9998  0.9996]\n",
      " [ 0.      0.     -1.    ]]\n"
     ]
    }
   ],
   "execution_count": 24
  },
  {
   "metadata": {
    "ExecuteTime": {
     "end_time": "2024-12-25T06:05:33.618166Z",
     "start_time": "2024-12-25T06:05:33.607015Z"
    }
   },
   "cell_type": "code",
   "source": [
    "import numpy as np\n",
    "\n",
    "# Define L and U from the LU decomposition\n",
    "L = np.array([\n",
    "    [1, 0, 0],\n",
    "    [2, 1, 0],\n",
    "    [3, 9, 1]\n",
    "], dtype=float)\n",
    "\n",
    "U = np.array([\n",
    "    [2, 3, 1],\n",
    "    [0, 1, 1],\n",
    "    [0, 0, -7]\n",
    "], dtype=float)\n",
    "\n",
    "# Perform LU multiplication\n",
    "LU = np.dot(L, U)\n",
    "\n",
    "# Define the original matrix A for comparison\n",
    "A = np.array([\n",
    "    [2, 3, 1],\n",
    "    [4, 7, 3],\n",
    "    [6, 18, 5]\n",
    "], dtype=float)\n",
    "\n",
    "# Print results\n",
    "print(\"Matrix L:\")\n",
    "print(L)\n",
    "print(\"\\nMatrix U:\")\n",
    "print(U)\n",
    "print(\"\\nMatrix LU (L multiplied by U):\")\n",
    "print(LU)\n",
    "print(\"\\nOriginal Matrix A:\")\n",
    "print(A)\n",
    "\n",
    "# Verify if LU equals A\n",
    "if np.allclose(LU, A):\n",
    "    print(\"\\nLU equals A: Verification successful!\")\n",
    "else:\n",
    "    print(\"\\nLU does not equal A: Verification failed.\")\n"
   ],
   "id": "50b01c75896639",
   "outputs": [
    {
     "name": "stdout",
     "output_type": "stream",
     "text": [
      "Matrix L:\n",
      "[[1. 0. 0.]\n",
      " [2. 1. 0.]\n",
      " [3. 9. 1.]]\n",
      "\n",
      "Matrix U:\n",
      "[[ 2.  3.  1.]\n",
      " [ 0.  1.  1.]\n",
      " [ 0.  0. -7.]]\n",
      "\n",
      "Matrix LU (L multiplied by U):\n",
      "[[ 2.  3.  1.]\n",
      " [ 4.  7.  3.]\n",
      " [ 6. 18.  5.]]\n",
      "\n",
      "Original Matrix A:\n",
      "[[ 2.  3.  1.]\n",
      " [ 4.  7.  3.]\n",
      " [ 6. 18.  5.]]\n",
      "\n",
      "LU equals A: Verification successful!\n"
     ]
    }
   ],
   "execution_count": 25
  },
  {
   "metadata": {
    "ExecuteTime": {
     "end_time": "2024-12-25T06:33:03.340576Z",
     "start_time": "2024-12-25T06:33:03.333371Z"
    }
   },
   "cell_type": "code",
   "source": [
    "import numpy as np\n",
    "\n",
    "# Define matrix A and vector b\n",
    "A = np.array([\n",
    "    [0.001, 1.0],\n",
    "    [1.0, 2.0]\n",
    "], dtype=float)\n",
    "\n",
    "b = np.array([1.0, 3.0], dtype=float)\n",
    "\n",
    "# Custom Gaussian elimination with rounding\n",
    "def gaussian_elimination_with_rounding(A, b, precision=3):\n",
    "    n = len(A)\n",
    "    U = A.copy()\n",
    "    L = np.eye(n)\n",
    "    \n",
    "    # Gaussian elimination with rounding\n",
    "    for k in range(n - 1):\n",
    "        for i in range(k + 1, n):\n",
    "            m = round(U[i, k] / U[k, k], precision)\n",
    "            L[i, k] = m\n",
    "            U[i, :] -= m * U[k, :]\n",
    "            U[i, :] = np.round(U[i, :], precision)  # Round U to simulate lower precision\n",
    "    \n",
    "    # Forward substitution (rounding)\n",
    "    y = np.zeros_like(b)\n",
    "    for i in range(n):\n",
    "        y[i] = b[i] - np.dot(L[i, :i], y[:i])\n",
    "        y[i] = round(y[i], precision)\n",
    "    \n",
    "    # Backward substitution (rounding)\n",
    "    x = np.zeros_like(b)\n",
    "    for i in range(n - 1, -1, -1):\n",
    "        x[i] = (y[i] - np.dot(U[i, i + 1:], x[i + 1:])) / U[i, i]\n",
    "        x[i] = round(x[i], precision)\n",
    "    \n",
    "    return x, L, U\n",
    "\n",
    "# Solve the system\n",
    "computed_x, L, U = gaussian_elimination_with_rounding(A, b, precision=3)\n",
    "\n",
    "# Print results\n",
    "print(\"Computed Solution (x̂):\", computed_x)\n",
    "print(\"Matrix L (Lower Triangular):\")\n",
    "print(L)\n",
    "print(\"Matrix U (Upper Triangular):\")\n",
    "print(U)\n",
    "\n",
    "\n"
   ],
   "id": "3b0afb741d36e198",
   "outputs": [
    {
     "name": "stdout",
     "output_type": "stream",
     "text": [
      "Computed Solution (x̂): [1.    0.999]\n",
      "Matrix L (Lower Triangular):\n",
      "[[   1.    0.]\n",
      " [1000.    1.]]\n",
      "Matrix U (Upper Triangular):\n",
      "[[ 1.00e-03  1.00e+00]\n",
      " [ 0.00e+00 -9.98e+02]]\n"
     ]
    }
   ],
   "execution_count": 28
  },
  {
   "metadata": {
    "ExecuteTime": {
     "end_time": "2024-12-31T04:35:38.715371Z",
     "start_time": "2024-12-31T04:35:38.272127Z"
    }
   },
   "cell_type": "code",
   "source": [
    "\n",
    "import numpy as np\n",
    "import functools\n",
    "\n",
    "def count_flops(func):\n",
    "    \"\"\"\n",
    "    Decorator to count the number of floating-point operations (FLOPs) \n",
    "    performed in a function.\n",
    "    \"\"\"\n",
    "    # Dictionary to hold FLOP counts\n",
    "    flop_counter = {\"count\": 0}\n",
    "\n",
    "    # Helper to count FLOPs for numpy functions\n",
    "    def count_operations(op_name, *args, **kwargs):\n",
    "        if op_name == \"matmul\":  # Matrix multiplication\n",
    "            # Assuming the operation is np.matmul(a, b)\n",
    "            a, b = args[0], args[1]\n",
    "            flop_counter[\"count\"] += 2 * a.shape[0] * a.shape[1] * b.shape[1]\n",
    "        elif op_name == \"dot\":  # Dot product\n",
    "            a, b = args[0], args[1]\n",
    "            flop_counter[\"count\"] += 2 * a.size\n",
    "        elif op_name == \"add\":  # Addition\n",
    "            a, b = args[0], args[1]\n",
    "            flop_counter[\"count\"] += a.size\n",
    "        elif op_name == \"subtract\":  # Subtraction\n",
    "            a, b = args[0], args[1]\n",
    "            flop_counter[\"count\"] += a.size\n",
    "        elif op_name == \"multiply\":  # Element-wise multiplication\n",
    "            a, b = args[0], args[1]\n",
    "            flop_counter[\"count\"] += a.size\n",
    "        elif op_name == \"divide\":  # Element-wise division\n",
    "            a, b = args[0], args[1]\n",
    "            flop_counter[\"count\"] += a.size\n",
    "\n",
    "    # Wrapping numpy functions\n",
    "    original_matmul = np.matmul\n",
    "    original_dot = np.dot\n",
    "    original_add = np.add\n",
    "    original_subtract = np.subtract\n",
    "    original_multiply = np.multiply\n",
    "    original_divide = np.divide\n",
    "\n",
    "    def wrap_and_count(op, op_name):\n",
    "        def wrapped(*args, **kwargs):\n",
    "            count_operations(op_name, *args, **kwargs)\n",
    "            return op(*args, **kwargs)\n",
    "        return wrapped\n",
    "\n",
    "    np.matmul = wrap_and_count(original_matmul, \"matmul\")\n",
    "    np.dot = wrap_and_count(original_dot, \"dot\")\n",
    "    np.add = wrap_and_count(original_add, \"add\")\n",
    "    np.subtract = wrap_and_count(original_subtract, \"subtract\")\n",
    "    np.multiply = wrap_and_count(original_multiply, \"multiply\")\n",
    "    np.divide = wrap_and_count(original_divide, \"divide\")\n",
    "\n",
    "    # Main decorator function\n",
    "    @functools.wraps(func)\n",
    "    def wrapper(*args, **kwargs):\n",
    "        # Reset FLOP counter\n",
    "        flop_counter[\"count\"] = 0\n",
    "        result = func(*args, **kwargs)\n",
    "        print(f\"FLOPs in {func.__name__}: {flop_counter['count']}\")\n",
    "        return result\n",
    "\n",
    "    # Restore original numpy functions after the function call\n",
    "    def restore_numpy():\n",
    "        np.matmul = original_matmul\n",
    "        np.dot = original_dot\n",
    "        np.add = original_add\n",
    "        np.subtract = original_subtract\n",
    "        np.multiply = original_multiply\n",
    "        np.divide = original_divide\n",
    "\n",
    "    # Restore numpy functions on function exit\n",
    "    @functools.wraps(func)\n",
    "    def cleanup_wrapper(*args, **kwargs):\n",
    "        try:\n",
    "            return wrapper(*args, **kwargs)\n",
    "        finally:\n",
    "            restore_numpy()\n",
    "\n",
    "    return cleanup_wrapper\n",
    "@count_flops\n",
    "def conjugate_gradient(A, b, x0=None, tol=1e-6, max_iter=1000):\n",
    "    \"\"\"\n",
    "    Conjugate Gradient method for solving Ax = b.\n",
    "    \"\"\"\n",
    "    n = len(b)\n",
    "    if x0 is None:\n",
    "        x0 = np.zeros_like(b)\n",
    "    x = x0\n",
    "    r = b - np.matmul(A, x)\n",
    "    p = r\n",
    "    rs_old = np.dot(r, r)\n",
    "    \n",
    "    for i in range(max_iter):\n",
    "        Ap = np.matmul(A, p)\n",
    "        alpha = rs_old / np.dot(p, Ap)\n",
    "        x = x + alpha * p\n",
    "        r = r - alpha * Ap\n",
    "        rs_new = np.dot(r, r)\n",
    "        if np.sqrt(rs_new) < tol:\n",
    "            break\n",
    "        p = r + (rs_new / rs_old) * p\n",
    "        rs_old = rs_new\n",
    "\n",
    "    return x\n",
    "\n",
    "# Example: Small Matrix\n",
    "A = np.array([[4, 1], [1, 3]], dtype=float)\n",
    "b = np.array([1, 2], dtype=float)\n",
    "\n",
    "# Run Conjugate Gradient with FLOP counting\n",
    "x = conjugate_gradient(A, b)\n"
   ],
   "id": "44798920c466a5f0",
   "outputs": [
    {
     "ename": "IndexError",
     "evalue": "tuple index out of range",
     "output_type": "error",
     "traceback": [
      "\u001B[1;31m---------------------------------------------------------------------------\u001B[0m",
      "\u001B[1;31mIndexError\u001B[0m                                Traceback (most recent call last)",
      "Cell \u001B[1;32mIn[1], line 113\u001B[0m\n\u001B[0;32m    110\u001B[0m b \u001B[38;5;241m=\u001B[39m np\u001B[38;5;241m.\u001B[39marray([\u001B[38;5;241m1\u001B[39m, \u001B[38;5;241m2\u001B[39m], dtype\u001B[38;5;241m=\u001B[39m\u001B[38;5;28mfloat\u001B[39m)\n\u001B[0;32m    112\u001B[0m \u001B[38;5;66;03m# Run Conjugate Gradient with FLOP counting\u001B[39;00m\n\u001B[1;32m--> 113\u001B[0m x \u001B[38;5;241m=\u001B[39m \u001B[43mconjugate_gradient\u001B[49m\u001B[43m(\u001B[49m\u001B[43mA\u001B[49m\u001B[43m,\u001B[49m\u001B[43m \u001B[49m\u001B[43mb\u001B[49m\u001B[43m)\u001B[49m\n",
      "Cell \u001B[1;32mIn[1], line 77\u001B[0m, in \u001B[0;36mcount_flops.<locals>.cleanup_wrapper\u001B[1;34m(*args, **kwargs)\u001B[0m\n\u001B[0;32m     74\u001B[0m \u001B[38;5;129m@functools\u001B[39m\u001B[38;5;241m.\u001B[39mwraps(func)\n\u001B[0;32m     75\u001B[0m \u001B[38;5;28;01mdef\u001B[39;00m \u001B[38;5;21mcleanup_wrapper\u001B[39m(\u001B[38;5;241m*\u001B[39margs, \u001B[38;5;241m*\u001B[39m\u001B[38;5;241m*\u001B[39mkwargs):\n\u001B[0;32m     76\u001B[0m     \u001B[38;5;28;01mtry\u001B[39;00m:\n\u001B[1;32m---> 77\u001B[0m         \u001B[38;5;28;01mreturn\u001B[39;00m \u001B[43mwrapper\u001B[49m\u001B[43m(\u001B[49m\u001B[38;5;241;43m*\u001B[39;49m\u001B[43margs\u001B[49m\u001B[43m,\u001B[49m\u001B[43m \u001B[49m\u001B[38;5;241;43m*\u001B[39;49m\u001B[38;5;241;43m*\u001B[39;49m\u001B[43mkwargs\u001B[49m\u001B[43m)\u001B[49m\n\u001B[0;32m     78\u001B[0m     \u001B[38;5;28;01mfinally\u001B[39;00m:\n\u001B[0;32m     79\u001B[0m         restore_numpy()\n",
      "Cell \u001B[1;32mIn[1], line 60\u001B[0m, in \u001B[0;36mcount_flops.<locals>.wrapper\u001B[1;34m(*args, **kwargs)\u001B[0m\n\u001B[0;32m     56\u001B[0m \u001B[38;5;129m@functools\u001B[39m\u001B[38;5;241m.\u001B[39mwraps(func)\n\u001B[0;32m     57\u001B[0m \u001B[38;5;28;01mdef\u001B[39;00m \u001B[38;5;21mwrapper\u001B[39m(\u001B[38;5;241m*\u001B[39margs, \u001B[38;5;241m*\u001B[39m\u001B[38;5;241m*\u001B[39mkwargs):\n\u001B[0;32m     58\u001B[0m     \u001B[38;5;66;03m# Reset FLOP counter\u001B[39;00m\n\u001B[0;32m     59\u001B[0m     flop_counter[\u001B[38;5;124m\"\u001B[39m\u001B[38;5;124mcount\u001B[39m\u001B[38;5;124m\"\u001B[39m] \u001B[38;5;241m=\u001B[39m \u001B[38;5;241m0\u001B[39m\n\u001B[1;32m---> 60\u001B[0m     result \u001B[38;5;241m=\u001B[39m \u001B[43mfunc\u001B[49m\u001B[43m(\u001B[49m\u001B[38;5;241;43m*\u001B[39;49m\u001B[43margs\u001B[49m\u001B[43m,\u001B[49m\u001B[43m \u001B[49m\u001B[38;5;241;43m*\u001B[39;49m\u001B[38;5;241;43m*\u001B[39;49m\u001B[43mkwargs\u001B[49m\u001B[43m)\u001B[49m\n\u001B[0;32m     61\u001B[0m     \u001B[38;5;28mprint\u001B[39m(\u001B[38;5;124mf\u001B[39m\u001B[38;5;124m\"\u001B[39m\u001B[38;5;124mFLOPs in \u001B[39m\u001B[38;5;132;01m{\u001B[39;00mfunc\u001B[38;5;241m.\u001B[39m\u001B[38;5;18m__name__\u001B[39m\u001B[38;5;132;01m}\u001B[39;00m\u001B[38;5;124m: \u001B[39m\u001B[38;5;132;01m{\u001B[39;00mflop_counter[\u001B[38;5;124m'\u001B[39m\u001B[38;5;124mcount\u001B[39m\u001B[38;5;124m'\u001B[39m]\u001B[38;5;132;01m}\u001B[39;00m\u001B[38;5;124m\"\u001B[39m)\n\u001B[0;32m     62\u001B[0m     \u001B[38;5;28;01mreturn\u001B[39;00m result\n",
      "Cell \u001B[1;32mIn[1], line 91\u001B[0m, in \u001B[0;36mconjugate_gradient\u001B[1;34m(A, b, x0, tol, max_iter)\u001B[0m\n\u001B[0;32m     89\u001B[0m     x0 \u001B[38;5;241m=\u001B[39m np\u001B[38;5;241m.\u001B[39mzeros_like(b)\n\u001B[0;32m     90\u001B[0m x \u001B[38;5;241m=\u001B[39m x0\n\u001B[1;32m---> 91\u001B[0m r \u001B[38;5;241m=\u001B[39m b \u001B[38;5;241m-\u001B[39m \u001B[43mnp\u001B[49m\u001B[38;5;241;43m.\u001B[39;49m\u001B[43mmatmul\u001B[49m\u001B[43m(\u001B[49m\u001B[43mA\u001B[49m\u001B[43m,\u001B[49m\u001B[43m \u001B[49m\u001B[43mx\u001B[49m\u001B[43m)\u001B[49m\n\u001B[0;32m     92\u001B[0m p \u001B[38;5;241m=\u001B[39m r\n\u001B[0;32m     93\u001B[0m rs_old \u001B[38;5;241m=\u001B[39m np\u001B[38;5;241m.\u001B[39mdot(r, r)\n",
      "Cell \u001B[1;32mIn[1], line 44\u001B[0m, in \u001B[0;36mcount_flops.<locals>.wrap_and_count.<locals>.wrapped\u001B[1;34m(*args, **kwargs)\u001B[0m\n\u001B[0;32m     43\u001B[0m \u001B[38;5;28;01mdef\u001B[39;00m \u001B[38;5;21mwrapped\u001B[39m(\u001B[38;5;241m*\u001B[39margs, \u001B[38;5;241m*\u001B[39m\u001B[38;5;241m*\u001B[39mkwargs):\n\u001B[1;32m---> 44\u001B[0m     \u001B[43mcount_operations\u001B[49m\u001B[43m(\u001B[49m\u001B[43mop_name\u001B[49m\u001B[43m,\u001B[49m\u001B[43m \u001B[49m\u001B[38;5;241;43m*\u001B[39;49m\u001B[43margs\u001B[49m\u001B[43m,\u001B[49m\u001B[43m \u001B[49m\u001B[38;5;241;43m*\u001B[39;49m\u001B[38;5;241;43m*\u001B[39;49m\u001B[43mkwargs\u001B[49m\u001B[43m)\u001B[49m\n\u001B[0;32m     45\u001B[0m     \u001B[38;5;28;01mreturn\u001B[39;00m op(\u001B[38;5;241m*\u001B[39margs, \u001B[38;5;241m*\u001B[39m\u001B[38;5;241m*\u001B[39mkwargs)\n",
      "Cell \u001B[1;32mIn[1], line 17\u001B[0m, in \u001B[0;36mcount_flops.<locals>.count_operations\u001B[1;34m(op_name, *args, **kwargs)\u001B[0m\n\u001B[0;32m     14\u001B[0m \u001B[38;5;28;01mif\u001B[39;00m op_name \u001B[38;5;241m==\u001B[39m \u001B[38;5;124m\"\u001B[39m\u001B[38;5;124mmatmul\u001B[39m\u001B[38;5;124m\"\u001B[39m:  \u001B[38;5;66;03m# Matrix multiplication\u001B[39;00m\n\u001B[0;32m     15\u001B[0m     \u001B[38;5;66;03m# Assuming the operation is np.matmul(a, b)\u001B[39;00m\n\u001B[0;32m     16\u001B[0m     a, b \u001B[38;5;241m=\u001B[39m args[\u001B[38;5;241m0\u001B[39m], args[\u001B[38;5;241m1\u001B[39m]\n\u001B[1;32m---> 17\u001B[0m     flop_counter[\u001B[38;5;124m\"\u001B[39m\u001B[38;5;124mcount\u001B[39m\u001B[38;5;124m\"\u001B[39m] \u001B[38;5;241m+\u001B[39m\u001B[38;5;241m=\u001B[39m \u001B[38;5;241m2\u001B[39m \u001B[38;5;241m*\u001B[39m a\u001B[38;5;241m.\u001B[39mshape[\u001B[38;5;241m0\u001B[39m] \u001B[38;5;241m*\u001B[39m a\u001B[38;5;241m.\u001B[39mshape[\u001B[38;5;241m1\u001B[39m] \u001B[38;5;241m*\u001B[39m \u001B[43mb\u001B[49m\u001B[38;5;241;43m.\u001B[39;49m\u001B[43mshape\u001B[49m\u001B[43m[\u001B[49m\u001B[38;5;241;43m1\u001B[39;49m\u001B[43m]\u001B[49m\n\u001B[0;32m     18\u001B[0m \u001B[38;5;28;01melif\u001B[39;00m op_name \u001B[38;5;241m==\u001B[39m \u001B[38;5;124m\"\u001B[39m\u001B[38;5;124mdot\u001B[39m\u001B[38;5;124m\"\u001B[39m:  \u001B[38;5;66;03m# Dot product\u001B[39;00m\n\u001B[0;32m     19\u001B[0m     a, b \u001B[38;5;241m=\u001B[39m args[\u001B[38;5;241m0\u001B[39m], args[\u001B[38;5;241m1\u001B[39m]\n",
      "\u001B[1;31mIndexError\u001B[0m: tuple index out of range"
     ]
    }
   ],
   "execution_count": 1
  }
 ],
 "metadata": {
  "kernelspec": {
   "display_name": "Python 3",
   "language": "python",
   "name": "python3"
  },
  "language_info": {
   "codemirror_mode": {
    "name": "ipython",
    "version": 2
   },
   "file_extension": ".py",
   "mimetype": "text/x-python",
   "name": "python",
   "nbconvert_exporter": "python",
   "pygments_lexer": "ipython2",
   "version": "2.7.6"
  }
 },
 "nbformat": 4,
 "nbformat_minor": 5
}
